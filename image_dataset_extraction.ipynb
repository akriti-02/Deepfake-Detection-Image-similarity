{
  "nbformat": 4,
  "nbformat_minor": 0,
  "metadata": {
    "colab": {
      "provenance": []
    },
    "kernelspec": {
      "name": "python3",
      "display_name": "Python 3"
    },
    "language_info": {
      "name": "python"
    }
  },
  "cells": [
    {
      "cell_type": "markdown",
      "source": [
        "# Image directory"
      ],
      "metadata": {
        "id": "LHh5YMQLS_z8"
      }
    },
    {
      "cell_type": "code",
      "source": [
        "# download 40-50 different image of people from internet\n",
        "# create different folder for each person\n",
        "# download 40-50 images of the two people (1. whose video was used for deepfake and 2. whose image was swapped on the video)\n",
        "# rename the downloaded images with the names of the people.\n",
        "# use mtcnn for feature extraction of these images and store in a new folder"
      ],
      "metadata": {
        "id": "1ehlEYg6S_Rm"
      },
      "execution_count": null,
      "outputs": []
    },
    {
      "cell_type": "code",
      "execution_count": null,
      "metadata": {
        "id": "0D0iJKHLS7x9"
      },
      "outputs": [],
      "source": [
        "\n",
        "!pip install patool\n",
        "import patoolib\n",
        "patoolib.extract_archive('dataset zip file location')"
      ]
    },
    {
      "cell_type": "code",
      "source": [
        "!pip install mtcnn"
      ],
      "metadata": {
        "id": "egGqgDFlT1PD"
      },
      "execution_count": null,
      "outputs": []
    },
    {
      "cell_type": "code",
      "source": [
        "from mtcnn import MTCNN\n",
        "from cv2 import imread\n",
        "from PIL import Image\n",
        "import numpy as np\n",
        "import os\n",
        "import matplotlib.pyplot as plt\n",
        "import pickle\n",
        "import warnings\n",
        "warnings.filterwarnings('ignore')"
      ],
      "metadata": {
        "id": "oVsiENfkT1MQ"
      },
      "execution_count": null,
      "outputs": []
    },
    {
      "cell_type": "code",
      "source": [
        "\n",
        "##------------------------------------------------------> no need for this box\n",
        "filename = 'file location of one image'\n",
        "image = Image.open(filename)\n",
        "# convert to RGB, if needed\n",
        "image = image.convert('RGB')\n",
        "# convert to array\n",
        "pixels = np.asarray(image)\n",
        "plt.imshow(pixels)\n",
        "print(pixels.shape)"
      ],
      "metadata": {
        "id": "C3BAWx9YT1Jw"
      },
      "execution_count": null,
      "outputs": []
    },
    {
      "cell_type": "code",
      "source": [
        "# create the face detector, using default weights\n",
        "detector = MTCNN()\n",
        "# detect faces in the image\n",
        "results = detector.detect_faces(pixels)"
      ],
      "metadata": {
        "id": "QxurfeNlT1Dy"
      },
      "execution_count": null,
      "outputs": []
    },
    {
      "cell_type": "code",
      "source": [
        "## Assuming that only 1 face is present\n",
        "# extract the bounding box from the first face\n",
        "x1, y1, width, height = results[0]['box']\n",
        "\n",
        "# bug fix - Sometimes the library will return a negative pixel index\n",
        "x1, y1 = abs(x1), abs(y1)\n",
        "x2, y2 = x1 + width, y1 + height"
      ],
      "metadata": {
        "id": "TIL_OtEIT1BI"
      },
      "execution_count": null,
      "outputs": []
    },
    {
      "cell_type": "code",
      "source": [
        "# extract the face. this is like cropping the face from image\n",
        "face = pixels[y1:y2, x1:x2]"
      ],
      "metadata": {
        "id": "vbjlrU91T066"
      },
      "execution_count": null,
      "outputs": []
    },
    {
      "cell_type": "code",
      "source": [
        "\n",
        "# resize pixels to the model size\n",
        "import cv2 as cv\n",
        "image = Image.fromarray(face)\n",
        "\n",
        "face_array = np.asarray(image)\n",
        "# Lets show the extracted face\n",
        "\n",
        "image= cv.resize(face_array, dsize=(160,160), interpolation=cv.INTER_LINEAR)\n",
        "\n",
        "plt.imshow(image)"
      ],
      "metadata": {
        "id": "mglpxWwFT04l"
      },
      "execution_count": null,
      "outputs": []
    },
    {
      "cell_type": "code",
      "source": [
        "# Function to extract a single face from a given photograph\n",
        "def extract_face(filename=None, image_pixels=None):\n",
        "    if filename is not None:\n",
        "        image = Image.open(filename)\n",
        "        image = image.convert('RGB')\n",
        "        pixels = np.asarray(image)\n",
        "    elif image_pixels is not None:\n",
        "        pixels = image_pixels\n",
        "    detector = MTCNN()\n",
        "    results = detector.detect_faces(pixels)\n",
        "    x1, y1, width, height = results[0]['box']\n",
        "    x1, y1 = abs(x1), abs(y1)\n",
        "    x2, y2 = x1 + width, y1 + height\n",
        "    face = pixels[y1:y2, x1:x2]\n",
        "    box_dimensions = (x1, y1, width, height)\n",
        "    image = Image.fromarray(face)\n",
        "    face_array = np.asarray(image)\n",
        "    image= cv.resize(face_array, dsize=(160,160), interpolation=cv.INTER_LINEAR)\n",
        "\n",
        "\n",
        "    return face_array, box_dimensions"
      ],
      "metadata": {
        "id": "GE3MI9JhUCmf"
      },
      "execution_count": null,
      "outputs": []
    },
    {
      "cell_type": "code",
      "source": [
        "# load images and extract faces for all images in a directory\n",
        "import cv2 as cv\n",
        "def load_faces(directory,output_dir):\n",
        "    if not os.path.exists(output_dir):\n",
        "        os.makedirs(output_dir)\n",
        "    faces = []\n",
        "    # enumerate files\n",
        "    for filename in os.listdir(directory):\n",
        "        # path\n",
        "        path = os.path.join(directory,filename)\n",
        "        # get face\n",
        "        face, _ = extract_face(filename=path)\n",
        "        # store\n",
        "\n",
        "        # Save the face to the output directory with a new name\n",
        "        face_filename =  os.path.splitext(filename)[0] + \"_face.jpg\"\n",
        "        output_path = os.path.join(output_dir, face_filename)\n",
        "        cv.imwrite(output_path, face)\n",
        "        faces.append(face)\n",
        "    return faces"
      ],
      "metadata": {
        "id": "GOS9nJRPUCjX"
      },
      "execution_count": null,
      "outputs": []
    },
    {
      "cell_type": "code",
      "source": [
        "# load a dataset that contains one subdir for each class that in turn contains images\n",
        "def load_dataset(directory):\n",
        "    X, y = [], []\n",
        "    out_dir=\"output directory location\"\n",
        "    for subdir in os.listdir(directory):\n",
        "        path = os.path.join(directory, subdir)\n",
        "        if not os.path.isdir(path):\n",
        "            continue\n",
        "        faces = load_faces(path,out_dir)\n",
        "        labels = [subdir for _ in range(len(faces))]\n",
        "        print(f'Loaded {len(faces)} examples for class: {subdir}')\n",
        "        X.extend(faces)\n",
        "        y.extend(labels)\n",
        "    return np.asarray(X), np.asarray(y)"
      ],
      "metadata": {
        "id": "V0c9f2gRUCgv"
      },
      "execution_count": null,
      "outputs": []
    },
    {
      "cell_type": "code",
      "source": [
        "%%time\n",
        "# load train dataset\n",
        "#../input/5-celebrity-faces-dataset/train/ben_afflek/httpcsvkmeuaeccjpg.jpg\n",
        "X_train, y_train = load_dataset(r'dataset location')\n",
        "print(X_train.shape, y_train.shape)\n"
      ],
      "metadata": {
        "id": "cKHsF5wQUCdw"
      },
      "execution_count": null,
      "outputs": []
    },
    {
      "cell_type": "code",
      "source": [],
      "metadata": {
        "id": "88clsf8lUTvf"
      },
      "execution_count": null,
      "outputs": []
    },
    {
      "cell_type": "code",
      "source": [],
      "metadata": {
        "id": "3IAoKF7pUTry"
      },
      "execution_count": null,
      "outputs": []
    },
    {
      "cell_type": "code",
      "source": [],
      "metadata": {
        "id": "iKR0Stn7UTn1"
      },
      "execution_count": null,
      "outputs": []
    },
    {
      "cell_type": "code",
      "source": [],
      "metadata": {
        "id": "apAhGwTEUTkt"
      },
      "execution_count": null,
      "outputs": []
    }
  ]
}